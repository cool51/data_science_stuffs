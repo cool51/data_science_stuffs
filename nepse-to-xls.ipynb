{
 "cells": [
  {
   "cell_type": "code",
   "execution_count": 1,
   "metadata": {},
   "outputs": [
    {
     "data": {
      "application/javascript": [
       "IPython.notebook.set_autosave_interval(30000)"
      ]
     },
     "metadata": {},
     "output_type": "display_data"
    },
    {
     "name": "stdout",
     "output_type": "stream",
     "text": [
      "Autosaving every 30 seconds\n"
     ]
    }
   ],
   "source": [
    "%autosave 30\n",
    "import pandas as pd\n",
    "import numpy as np\n",
    "import requests\n",
    "import xlsxwriter\n",
    "import math\n",
    "import json"
   ]
  },
  {
   "cell_type": "code",
   "execution_count": 2,
   "metadata": {},
   "outputs": [],
   "source": [
    "api_url=f'https://nepse-data-api.herokuapp.com/data/todaysprice'\n",
    "data=requests.get(api_url).json()\n"
   ]
  },
  {
   "cell_type": "code",
   "execution_count": null,
   "metadata": {},
   "outputs": [],
   "source": []
  },
  {
   "cell_type": "code",
   "execution_count": 3,
   "metadata": {},
   "outputs": [],
   "source": [
    "price=[]\n",
    "for d in data:\n",
    "    price.append(d['companyName'])\n"
   ]
  },
  {
   "cell_type": "code",
   "execution_count": 4,
   "metadata": {},
   "outputs": [],
   "source": [
    "keys=(data[1].keys())\n"
   ]
  },
  {
   "cell_type": "code",
   "execution_count": 5,
   "metadata": {},
   "outputs": [],
   "source": [
    "k=[]\n",
    "for key in keys:\n",
    "    k.append(key)"
   ]
  },
  {
   "cell_type": "code",
   "execution_count": null,
   "metadata": {},
   "outputs": [],
   "source": []
  },
  {
   "cell_type": "code",
   "execution_count": 6,
   "metadata": {},
   "outputs": [],
   "source": [
    "my_columns=k\n",
    "final_dataframe=pd.DataFrame(columns=my_columns)\n"
   ]
  },
  {
   "cell_type": "code",
   "execution_count": 7,
   "metadata": {},
   "outputs": [],
   "source": [
    "for singleData in data:\n",
    "        final_dataframe=final_dataframe.append(\n",
    "    pd.Series(\n",
    "        data=singleData \n",
    "    ,\n",
    "        index=my_columns),\n",
    "        ignore_index=True\n",
    "    )\n"
   ]
  },
  {
   "cell_type": "code",
   "execution_count": 8,
   "metadata": {},
   "outputs": [
    {
     "data": {
      "text/html": [
       "<div>\n",
       "<style scoped>\n",
       "    .dataframe tbody tr th:only-of-type {\n",
       "        vertical-align: middle;\n",
       "    }\n",
       "\n",
       "    .dataframe tbody tr th {\n",
       "        vertical-align: top;\n",
       "    }\n",
       "\n",
       "    .dataframe thead th {\n",
       "        text-align: right;\n",
       "    }\n",
       "</style>\n",
       "<table border=\"1\" class=\"dataframe\">\n",
       "  <thead>\n",
       "    <tr style=\"text-align: right;\">\n",
       "      <th></th>\n",
       "      <th>companyName</th>\n",
       "      <th>noOfTransactions</th>\n",
       "      <th>maxPrice</th>\n",
       "      <th>minPrice</th>\n",
       "      <th>closingPrice</th>\n",
       "      <th>tradedShares</th>\n",
       "      <th>amount</th>\n",
       "      <th>previousClosing</th>\n",
       "      <th>difference</th>\n",
       "    </tr>\n",
       "  </thead>\n",
       "  <tbody>\n",
       "    <tr>\n",
       "      <th>0</th>\n",
       "      <td>10% Laxmi Bank Debenture 2086</td>\n",
       "      <td>5</td>\n",
       "      <td>1055.0</td>\n",
       "      <td>1050.0</td>\n",
       "      <td>1055.0</td>\n",
       "      <td>131</td>\n",
       "      <td>137700.0</td>\n",
       "      <td>1050.0</td>\n",
       "      <td>5.0</td>\n",
       "    </tr>\n",
       "    <tr>\n",
       "      <th>1</th>\n",
       "      <td>10% Prabhu Bank Debenture 2084</td>\n",
       "      <td>2</td>\n",
       "      <td>1053.0</td>\n",
       "      <td>1051.0</td>\n",
       "      <td>1053.0</td>\n",
       "      <td>75</td>\n",
       "      <td>78925.0</td>\n",
       "      <td>1051.0</td>\n",
       "      <td>2.0</td>\n",
       "    </tr>\n",
       "    <tr>\n",
       "      <th>2</th>\n",
       "      <td>10.25% Prabhu Bank Debenture 2086</td>\n",
       "      <td>2</td>\n",
       "      <td>1060.0</td>\n",
       "      <td>1060.0</td>\n",
       "      <td>1060.0</td>\n",
       "      <td>50</td>\n",
       "      <td>53000.0</td>\n",
       "      <td>1060.0</td>\n",
       "      <td>0.0</td>\n",
       "    </tr>\n",
       "    <tr>\n",
       "      <th>3</th>\n",
       "      <td>10.25% SBL Debenture 2083</td>\n",
       "      <td>1</td>\n",
       "      <td>1060.0</td>\n",
       "      <td>1060.0</td>\n",
       "      <td>1060.0</td>\n",
       "      <td>25</td>\n",
       "      <td>26500.0</td>\n",
       "      <td>1050.0</td>\n",
       "      <td>10.0</td>\n",
       "    </tr>\n",
       "    <tr>\n",
       "      <th>4</th>\n",
       "      <td>10.35% Agricultural Bank Debenture 2083</td>\n",
       "      <td>7</td>\n",
       "      <td>1070.0</td>\n",
       "      <td>1050.0</td>\n",
       "      <td>1060.0</td>\n",
       "      <td>375</td>\n",
       "      <td>397125.0</td>\n",
       "      <td>1052.0</td>\n",
       "      <td>8.0</td>\n",
       "    </tr>\n",
       "    <tr>\n",
       "      <th>...</th>\n",
       "      <td>...</td>\n",
       "      <td>...</td>\n",
       "      <td>...</td>\n",
       "      <td>...</td>\n",
       "      <td>...</td>\n",
       "      <td>...</td>\n",
       "      <td>...</td>\n",
       "      <td>...</td>\n",
       "      <td>...</td>\n",
       "    </tr>\n",
       "    <tr>\n",
       "      <th>211</th>\n",
       "      <td>UNIVERSAL POWER COMPANY LTD</td>\n",
       "      <td>780</td>\n",
       "      <td>216.0</td>\n",
       "      <td>198.0</td>\n",
       "      <td>199.0</td>\n",
       "      <td>228912</td>\n",
       "      <td>45897734.0</td>\n",
       "      <td>206.0</td>\n",
       "      <td>-7.0</td>\n",
       "    </tr>\n",
       "    <tr>\n",
       "      <th>212</th>\n",
       "      <td>Unnati Sahakarya Laghubitta Bittiya Sanstha Li...</td>\n",
       "      <td>62</td>\n",
       "      <td>2530.0</td>\n",
       "      <td>2461.0</td>\n",
       "      <td>2499.0</td>\n",
       "      <td>3191</td>\n",
       "      <td>7947841.0</td>\n",
       "      <td>2559.0</td>\n",
       "      <td>-60.0</td>\n",
       "    </tr>\n",
       "    <tr>\n",
       "      <th>213</th>\n",
       "      <td>Upper Tamakoshi Hydropower Ltd</td>\n",
       "      <td>1290</td>\n",
       "      <td>840.0</td>\n",
       "      <td>819.0</td>\n",
       "      <td>823.0</td>\n",
       "      <td>139928</td>\n",
       "      <td>115806008.0</td>\n",
       "      <td>840.0</td>\n",
       "      <td>-17.0</td>\n",
       "    </tr>\n",
       "    <tr>\n",
       "      <th>214</th>\n",
       "      <td>Vijaya laghubitta Bittiya Sanstha Ltd.</td>\n",
       "      <td>312</td>\n",
       "      <td>1870.0</td>\n",
       "      <td>1828.0</td>\n",
       "      <td>1840.0</td>\n",
       "      <td>12700</td>\n",
       "      <td>23468380.0</td>\n",
       "      <td>1893.0</td>\n",
       "      <td>-53.0</td>\n",
       "    </tr>\n",
       "    <tr>\n",
       "      <th>215</th>\n",
       "      <td>Womi Microfinance Bittiya Sanstha Ltd.</td>\n",
       "      <td>151</td>\n",
       "      <td>1736.0</td>\n",
       "      <td>1706.0</td>\n",
       "      <td>1713.0</td>\n",
       "      <td>8660</td>\n",
       "      <td>14854792.0</td>\n",
       "      <td>1736.0</td>\n",
       "      <td>-23.0</td>\n",
       "    </tr>\n",
       "  </tbody>\n",
       "</table>\n",
       "<p>216 rows × 9 columns</p>\n",
       "</div>"
      ],
      "text/plain": [
       "                                           companyName noOfTransactions  \\\n",
       "0                        10% Laxmi Bank Debenture 2086                5   \n",
       "1                       10% Prabhu Bank Debenture 2084                2   \n",
       "2                    10.25% Prabhu Bank Debenture 2086                2   \n",
       "3                            10.25% SBL Debenture 2083                1   \n",
       "4              10.35% Agricultural Bank Debenture 2083                7   \n",
       "..                                                 ...              ...   \n",
       "211                        UNIVERSAL POWER COMPANY LTD              780   \n",
       "212  Unnati Sahakarya Laghubitta Bittiya Sanstha Li...               62   \n",
       "213                     Upper Tamakoshi Hydropower Ltd             1290   \n",
       "214             Vijaya laghubitta Bittiya Sanstha Ltd.              312   \n",
       "215             Womi Microfinance Bittiya Sanstha Ltd.              151   \n",
       "\n",
       "     maxPrice  minPrice  closingPrice tradedShares       amount  \\\n",
       "0      1055.0    1050.0        1055.0          131     137700.0   \n",
       "1      1053.0    1051.0        1053.0           75      78925.0   \n",
       "2      1060.0    1060.0        1060.0           50      53000.0   \n",
       "3      1060.0    1060.0        1060.0           25      26500.0   \n",
       "4      1070.0    1050.0        1060.0          375     397125.0   \n",
       "..        ...       ...           ...          ...          ...   \n",
       "211     216.0     198.0         199.0       228912   45897734.0   \n",
       "212    2530.0    2461.0        2499.0         3191    7947841.0   \n",
       "213     840.0     819.0         823.0       139928  115806008.0   \n",
       "214    1870.0    1828.0        1840.0        12700   23468380.0   \n",
       "215    1736.0    1706.0        1713.0         8660   14854792.0   \n",
       "\n",
       "     previousClosing  difference  \n",
       "0             1050.0         5.0  \n",
       "1             1051.0         2.0  \n",
       "2             1060.0         0.0  \n",
       "3             1050.0        10.0  \n",
       "4             1052.0         8.0  \n",
       "..               ...         ...  \n",
       "211            206.0        -7.0  \n",
       "212           2559.0       -60.0  \n",
       "213            840.0       -17.0  \n",
       "214           1893.0       -53.0  \n",
       "215           1736.0       -23.0  \n",
       "\n",
       "[216 rows x 9 columns]"
      ]
     },
     "execution_count": 8,
     "metadata": {},
     "output_type": "execute_result"
    }
   ],
   "source": [
    "final_dataframe"
   ]
  },
  {
   "cell_type": "code",
   "execution_count": 9,
   "metadata": {},
   "outputs": [],
   "source": [
    "writer = pd.ExcelWriter('/home/cool/Desktop/Nepse.xlsx', engine='xlsxwriter')\n",
    "final_dataframe.to_excel(writer, sheet_name='My trading', index = False)\n",
    "background_color = '#0a0a23'\n",
    "font_color = '#ffffff'\n"
   ]
  },
  {
   "cell_type": "code",
   "execution_count": 10,
   "metadata": {},
   "outputs": [],
   "source": [
    "writer.save()"
   ]
  },
  {
   "cell_type": "code",
   "execution_count": null,
   "metadata": {},
   "outputs": [],
   "source": []
  }
 ],
 "metadata": {
  "kernelspec": {
   "display_name": "Python 3",
   "language": "python",
   "name": "python3"
  },
  "language_info": {
   "codemirror_mode": {
    "name": "ipython",
    "version": 3
   },
   "file_extension": ".py",
   "mimetype": "text/x-python",
   "name": "python",
   "nbconvert_exporter": "python",
   "pygments_lexer": "ipython3",
   "version": "3.8.5"
  }
 },
 "nbformat": 4,
 "nbformat_minor": 4
}
